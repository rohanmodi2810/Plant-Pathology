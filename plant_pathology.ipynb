{
 "cells": [
  {
   "cell_type": "code",
   "execution_count": 1,
   "id": "upset-packaging",
   "metadata": {
    "execution": {
     "iopub.execute_input": "2021-05-08T05:39:54.685020Z",
     "iopub.status.busy": "2021-05-08T05:39:54.684039Z",
     "iopub.status.idle": "2021-05-08T05:40:00.681781Z",
     "shell.execute_reply": "2021-05-08T05:40:00.681159Z"
    },
    "papermill": {
     "duration": 6.021036,
     "end_time": "2021-05-08T05:40:00.681927",
     "exception": false,
     "start_time": "2021-05-08T05:39:54.660891",
     "status": "completed"
    },
    "tags": []
   },
   "outputs": [],
   "source": [
    "import math, re, os\n",
    "\n",
    "import numpy as np\n",
    "import pandas as pd\n",
    "from matplotlib import pyplot as plt\n",
    "from kaggle_datasets import KaggleDatasets\n",
    "import tensorflow as tf\n",
    "import tensorflow_addons as tfa\n",
    "from tensorflow import keras\n",
    "from keras.layers import GlobalAveragePooling2D, Dropout, Dense\n",
    "from tensorflow.keras.applications import EfficientNetB7\n",
    "from keras.applications.densenet import DenseNet201\n",
    "from sklearn import metrics\n",
    "from sklearn.model_selection import train_test_split\n",
    "from keras.callbacks import ReduceLROnPlateau\n",
    "\n",
    "from tensorflow.keras.preprocessing.image import ImageDataGenerator"
   ]
  },
  {
   "cell_type": "code",
   "execution_count": 2,
   "id": "accessory-nutrition",
   "metadata": {
    "execution": {
     "iopub.execute_input": "2021-05-08T05:40:00.708286Z",
     "iopub.status.busy": "2021-05-08T05:40:00.707590Z",
     "iopub.status.idle": "2021-05-08T05:40:00.710099Z",
     "shell.execute_reply": "2021-05-08T05:40:00.709714Z"
    },
    "papermill": {
     "duration": 0.016685,
     "end_time": "2021-05-08T05:40:00.710199",
     "exception": false,
     "start_time": "2021-05-08T05:40:00.693514",
     "status": "completed"
    },
    "tags": []
   },
   "outputs": [],
   "source": [
    "AUTO = tf.data.experimental.AUTOTUNE\n",
    "# Detect hardware, return appropriate distribution strategy\n",
    "try:\n",
    "    tpu = tf.distribute.cluster_resolver.TPUClusterResolver()  # TPU detection. No parameters necessary if TPU_NAME environment variable is set. On Kaggle this is always the case.\n",
    "    print('Running on TPU ', tpu.master())\n",
    "except ValueError:\n",
    "    tpu = None\n",
    "\n",
    "if tpu:\n",
    "    tf.config.experimental_connect_to_cluster(tpu)\n",
    "    tf.tpu.experimental.initialize_tpu_system(tpu)\n",
    "    strategy = tf.distribute.experimental.TPUStrategy(tpu)\n",
    "else:\n",
    "    strategy = tf.distribute.get_strategy() # default distribution strategy in Tensorflow. Works on CPU and single GPU.\n",
    "\n",
    "print(\"REPLICAS: \", strategy.num_replicas_in_sync)"
   ]
  },
  {
   "cell_type": "code",
   "execution_count": 3,
   "id": "living-output",
   "metadata": {
    "execution": {
     "iopub.execute_input": "2021-05-08T05:40:00.735913Z",
     "iopub.status.busy": "2021-05-08T05:40:00.735195Z",
     "iopub.status.idle": "2021-05-08T05:40:00.737823Z",
     "shell.execute_reply": "2021-05-08T05:40:00.737416Z"
    },
    "papermill": {
     "duration": 0.016553,
     "end_time": "2021-05-08T05:40:00.737934",
     "exception": false,
     "start_time": "2021-05-08T05:40:00.721381",
     "status": "completed"
    },
    "tags": []
   },
   "outputs": [],
   "source": [
    "# Data access\n",
    "GCS_DS_PATH = KaggleDatasets().get_gcs_path(\"plant-pathology-2021-fgvc8\")\n",
    "\n",
    "# Configuration\n",
    "EPOCHS = 10\n",
    "BATCH_SIZE = 8 * strategy.num_replicas_in_sync\n",
    "IM_Z = 768"
   ]
  },
  {
   "cell_type": "code",
   "execution_count": 4,
   "id": "compact-actor",
   "metadata": {
    "execution": {
     "iopub.execute_input": "2021-05-08T05:40:00.763549Z",
     "iopub.status.busy": "2021-05-08T05:40:00.762898Z",
     "iopub.status.idle": "2021-05-08T05:40:00.765190Z",
     "shell.execute_reply": "2021-05-08T05:40:00.765608Z"
    },
    "papermill": {
     "duration": 0.016463,
     "end_time": "2021-05-08T05:40:00.765730",
     "exception": false,
     "start_time": "2021-05-08T05:40:00.749267",
     "status": "completed"
    },
    "tags": []
   },
   "outputs": [],
   "source": [
    "def format_train_path(fname):\n",
    "    return GCS_DS_PATH+'/train_images/'+fname\n",
    "\n",
    "def format_test_path(fname):\n",
    "    return GCS_DS_PATH+'/test_images/'+fname"
   ]
  },
  {
   "cell_type": "code",
   "execution_count": 5,
   "id": "royal-brother",
   "metadata": {
    "execution": {
     "iopub.execute_input": "2021-05-08T05:40:00.791302Z",
     "iopub.status.busy": "2021-05-08T05:40:00.790615Z",
     "iopub.status.idle": "2021-05-08T05:40:00.793249Z",
     "shell.execute_reply": "2021-05-08T05:40:00.792754Z"
    },
    "papermill": {
     "duration": 0.016431,
     "end_time": "2021-05-08T05:40:00.793345",
     "exception": false,
     "start_time": "2021-05-08T05:40:00.776914",
     "status": "completed"
    },
    "tags": []
   },
   "outputs": [],
   "source": [
    "train_dir=\"../input/plant-pathology-2021-fgvc8/train_images/\"\n",
    "test_dir=\"../input/plant-pathology-2021-fgvc8/test_images/\"\n",
    "df_train=pd.read_csv('../input/plant-pathology-2021-fgvc8/train.csv')\n",
    "df_sub = pd.read_csv('../input/plant-pathology-2021-fgvc8/sample_submission.csv')"
   ]
  },
  {
   "cell_type": "code",
   "execution_count": 6,
   "id": "million-agreement",
   "metadata": {
    "execution": {
     "iopub.execute_input": "2021-05-08T05:40:00.819333Z",
     "iopub.status.busy": "2021-05-08T05:40:00.818663Z",
     "iopub.status.idle": "2021-05-08T05:40:00.821325Z",
     "shell.execute_reply": "2021-05-08T05:40:00.820939Z"
    },
    "papermill": {
     "duration": 0.016657,
     "end_time": "2021-05-08T05:40:00.821442",
     "exception": false,
     "start_time": "2021-05-08T05:40:00.804785",
     "status": "completed"
    },
    "tags": []
   },
   "outputs": [],
   "source": [
    "train_paths = df_train.image.apply(format_train_path)\n",
    "test_paths = df_sub.image.apply(format_test_path)"
   ]
  },
  {
   "cell_type": "code",
   "execution_count": 7,
   "id": "optical-insider",
   "metadata": {
    "execution": {
     "iopub.execute_input": "2021-05-08T05:40:00.847796Z",
     "iopub.status.busy": "2021-05-08T05:40:00.847081Z",
     "iopub.status.idle": "2021-05-08T05:40:00.849751Z",
     "shell.execute_reply": "2021-05-08T05:40:00.849338Z"
    },
    "papermill": {
     "duration": 0.016889,
     "end_time": "2021-05-08T05:40:00.849853",
     "exception": false,
     "start_time": "2021-05-08T05:40:00.832964",
     "status": "completed"
    },
    "tags": []
   },
   "outputs": [],
   "source": [
    "labels = df_train['labels'].str.split(\" \").apply(pd.Series, 1).stack()\n",
    "labels.index = labels.index.droplevel(-1)\n",
    "target_labels = pd.get_dummies(labels).groupby(level=0).sum()\n",
    "target_labels.head()"
   ]
  },
  {
   "cell_type": "code",
   "execution_count": 8,
   "id": "indian-dispatch",
   "metadata": {
    "execution": {
     "iopub.execute_input": "2021-05-08T05:40:00.876273Z",
     "iopub.status.busy": "2021-05-08T05:40:00.875620Z",
     "iopub.status.idle": "2021-05-08T05:40:00.878409Z",
     "shell.execute_reply": "2021-05-08T05:40:00.878002Z"
    },
    "papermill": {
     "duration": 0.017031,
     "end_time": "2021-05-08T05:40:00.878513",
     "exception": false,
     "start_time": "2021-05-08T05:40:00.861482",
     "status": "completed"
    },
    "tags": []
   },
   "outputs": [],
   "source": [
    "train_paths, valid_paths, train_labels, valid_labels = train_test_split(\n",
    "    train_paths, target_labels, test_size=0.15)"
   ]
  },
  {
   "cell_type": "code",
   "execution_count": 9,
   "id": "higher-startup",
   "metadata": {
    "execution": {
     "iopub.execute_input": "2021-05-08T05:40:00.905921Z",
     "iopub.status.busy": "2021-05-08T05:40:00.905192Z",
     "iopub.status.idle": "2021-05-08T05:40:00.907414Z",
     "shell.execute_reply": "2021-05-08T05:40:00.907811Z"
    },
    "papermill": {
     "duration": 0.017594,
     "end_time": "2021-05-08T05:40:00.907933",
     "exception": false,
     "start_time": "2021-05-08T05:40:00.890339",
     "status": "completed"
    },
    "tags": []
   },
   "outputs": [],
   "source": [
    "def decode_image(filename, label=None, image_size=(IM_Z, IM_Z)):\n",
    "    bits = tf.io.read_file(filename)\n",
    "    image = tf.image.decode_jpeg(bits, channels=3)\n",
    "    image = keras.applications.densenet.preprocess_input(image)\n",
    "    image = tf.image.resize(image, image_size)\n",
    "    \n",
    "    \n",
    "    if label is None:\n",
    "        return image\n",
    "    else:\n",
    "        return image, label\n",
    "\n",
    "def data_augment(image, label=None):\n",
    "    image = tf.image.random_flip_left_right(image)\n",
    "    image = tf.image.random_flip_up_down(image)\n",
    "    image = tf.image.random_contrast(image, 0.8, 1.2)\n",
    "    image = tf.image.random_brightness(image, 0.1)\n",
    "    \n",
    "    if label is None:\n",
    "        return image\n",
    "    else:\n",
    "        return image, label"
   ]
  },
  {
   "cell_type": "code",
   "execution_count": 10,
   "id": "settled-holocaust",
   "metadata": {
    "execution": {
     "iopub.execute_input": "2021-05-08T05:40:00.935146Z",
     "iopub.status.busy": "2021-05-08T05:40:00.934484Z",
     "iopub.status.idle": "2021-05-08T05:40:00.937142Z",
     "shell.execute_reply": "2021-05-08T05:40:00.936659Z"
    },
    "papermill": {
     "duration": 0.017569,
     "end_time": "2021-05-08T05:40:00.937238",
     "exception": false,
     "start_time": "2021-05-08T05:40:00.919669",
     "status": "completed"
    },
    "tags": []
   },
   "outputs": [],
   "source": [
    "train_dataset = (\n",
    "    tf.data.Dataset\n",
    "    .from_tensor_slices((train_paths, train_labels))\n",
    "    .map(decode_image, num_parallel_calls=AUTO)\n",
    "    .cache()\n",
    "    .map(data_augment, num_parallel_calls=AUTO)\n",
    "    .repeat()\n",
    "    .batch(BATCH_SIZE)\n",
    "    .prefetch(AUTO)\n",
    ")\n",
    "\n",
    "valid_dataset = (\n",
    "    tf.data.Dataset\n",
    "    .from_tensor_slices((valid_paths, valid_labels))\n",
    "    .map(decode_image, num_parallel_calls=AUTO)\n",
    "    .batch(BATCH_SIZE)\n",
    "    .cache()\n",
    "    .prefetch(AUTO)\n",
    ")\n",
    "test_valid_dataset=(\n",
    "    tf.data.Dataset\n",
    "    .from_tensor_slices(valid_paths)\n",
    "    .map(decode_image, num_parallel_calls=AUTO)\n",
    "    .batch(BATCH_SIZE)\n",
    ")\n",
    "test_dataset = (\n",
    "    tf.data.Dataset\n",
    "    .from_tensor_slices(test_paths)\n",
    "    .map(decode_image, num_parallel_calls=AUTO)\n",
    "    .batch(BATCH_SIZE)\n",
    ")"
   ]
  },
  {
   "cell_type": "code",
   "execution_count": 11,
   "id": "handled-appointment",
   "metadata": {
    "execution": {
     "iopub.execute_input": "2021-05-08T05:40:00.964538Z",
     "iopub.status.busy": "2021-05-08T05:40:00.963819Z",
     "iopub.status.idle": "2021-05-08T05:40:00.966351Z",
     "shell.execute_reply": "2021-05-08T05:40:00.965933Z"
    },
    "papermill": {
     "duration": 0.017349,
     "end_time": "2021-05-08T05:40:00.966465",
     "exception": false,
     "start_time": "2021-05-08T05:40:00.949116",
     "status": "completed"
    },
    "tags": []
   },
   "outputs": [],
   "source": [
    "with strategy.scope():\n",
    "    model = tf.keras.Sequential([\n",
    "        keras.applications.Xception(\n",
    "            input_shape=(IM_Z, IM_Z, 3),\n",
    "            weights='imagenet',\n",
    "            include_top=False\n",
    "        ),\n",
    "        GlobalAveragePooling2D(),\n",
    "        Dense(512, activation = 'relu'),\n",
    "        Dropout(0.2),\n",
    "        Dense(32, activation = 'relu'),\n",
    "        Dense(6, activation='sigmoid')\n",
    "    ])\n",
    "    \n",
    "    f1 = tfa.metrics.F1Score(num_classes = 6, average = 'macro')\n",
    "        \n",
    "    model.compile(\n",
    "        optimizer = 'adam',\n",
    "        loss = 'binary_crossentropy',\n",
    "        metrics = [f1]\n",
    "    )\n",
    "    model.summary()"
   ]
  },
  {
   "cell_type": "code",
   "execution_count": 12,
   "id": "becoming-campus",
   "metadata": {
    "execution": {
     "iopub.execute_input": "2021-05-08T05:40:00.993490Z",
     "iopub.status.busy": "2021-05-08T05:40:00.992841Z",
     "iopub.status.idle": "2021-05-08T05:40:00.995576Z",
     "shell.execute_reply": "2021-05-08T05:40:00.995165Z"
    },
    "papermill": {
     "duration": 0.017315,
     "end_time": "2021-05-08T05:40:00.995677",
     "exception": false,
     "start_time": "2021-05-08T05:40:00.978362",
     "status": "completed"
    },
    "tags": []
   },
   "outputs": [],
   "source": [
    "reduceLR = ReduceLROnPlateau(monitor = f1, mode = 'max', factor = 0.1, patience = 3, min_lr = 1e-9, verbose = 1)\n",
    "\n",
    "history = model.fit(\n",
    "    train_dataset, \n",
    "    epochs=EPOCHS, \n",
    "    steps_per_epoch=train_labels.shape[0] // BATCH_SIZE,\n",
    "    validation_data=valid_dataset,\n",
    "    validation_steps=valid_labels.shape[0] // BATCH_SIZE,\n",
    "    callbacks=[reduceLR]\n",
    ")"
   ]
  },
  {
   "cell_type": "code",
   "execution_count": 13,
   "id": "narrow-albert",
   "metadata": {
    "execution": {
     "iopub.execute_input": "2021-05-08T05:40:01.024763Z",
     "iopub.status.busy": "2021-05-08T05:40:01.024041Z",
     "iopub.status.idle": "2021-05-08T05:40:01.026693Z",
     "shell.execute_reply": "2021-05-08T05:40:01.026268Z"
    },
    "papermill": {
     "duration": 0.019122,
     "end_time": "2021-05-08T05:40:01.026796",
     "exception": false,
     "start_time": "2021-05-08T05:40:01.007674",
     "status": "completed"
    },
    "tags": []
   },
   "outputs": [],
   "source": [
    "model.save('model_30.h5')"
   ]
  },
  {
   "cell_type": "code",
   "execution_count": 14,
   "id": "lesbian-solid",
   "metadata": {
    "execution": {
     "iopub.execute_input": "2021-05-08T05:40:01.055823Z",
     "iopub.status.busy": "2021-05-08T05:40:01.055283Z",
     "iopub.status.idle": "2021-05-08T05:40:56.994376Z",
     "shell.execute_reply": "2021-05-08T05:40:56.993243Z"
    },
    "papermill": {
     "duration": 55.955339,
     "end_time": "2021-05-08T05:40:56.994532",
     "exception": false,
     "start_time": "2021-05-08T05:40:01.039193",
     "status": "completed"
    },
    "tags": []
   },
   "outputs": [],
   "source": [
    "from tensorflow import keras\n",
    "f1 = tfa.metrics.F1Score(num_classes = 6, average = None)\n",
    "        \n",
    "model1 = keras.models.load_model('../input/tpu-efficientnet/tpu_EfficientNetB7.h5')\n",
    "model2 = keras.models.load_model('../input/tpu-densenet/tpu_dense.h5')\n",
    "model3 = keras.models.load_model('../input/tpu-efficientnet-no-aug/model1.h5')"
   ]
  },
  {
   "cell_type": "code",
   "execution_count": 15,
   "id": "applied-credits",
   "metadata": {
    "execution": {
     "iopub.execute_input": "2021-05-08T05:40:57.024420Z",
     "iopub.status.busy": "2021-05-08T05:40:57.023756Z",
     "iopub.status.idle": "2021-05-08T05:40:57.050020Z",
     "shell.execute_reply": "2021-05-08T05:40:57.050436Z"
    },
    "papermill": {
     "duration": 0.043254,
     "end_time": "2021-05-08T05:40:57.050566",
     "exception": false,
     "start_time": "2021-05-08T05:40:57.007312",
     "status": "completed"
    },
    "tags": []
   },
   "outputs": [
    {
     "data": {
      "text/html": [
       "<div>\n",
       "<style scoped>\n",
       "    .dataframe tbody tr th:only-of-type {\n",
       "        vertical-align: middle;\n",
       "    }\n",
       "\n",
       "    .dataframe tbody tr th {\n",
       "        vertical-align: top;\n",
       "    }\n",
       "\n",
       "    .dataframe thead th {\n",
       "        text-align: right;\n",
       "    }\n",
       "</style>\n",
       "<table border=\"1\" class=\"dataframe\">\n",
       "  <thead>\n",
       "    <tr style=\"text-align: right;\">\n",
       "      <th></th>\n",
       "      <th>image</th>\n",
       "    </tr>\n",
       "  </thead>\n",
       "  <tbody>\n",
       "    <tr>\n",
       "      <th>0</th>\n",
       "      <td>ad8770db05586b59.jpg</td>\n",
       "    </tr>\n",
       "    <tr>\n",
       "      <th>1</th>\n",
       "      <td>c7b03e718489f3ca.jpg</td>\n",
       "    </tr>\n",
       "    <tr>\n",
       "      <th>2</th>\n",
       "      <td>85f8cb619c66b863.jpg</td>\n",
       "    </tr>\n",
       "  </tbody>\n",
       "</table>\n",
       "</div>"
      ],
      "text/plain": [
       "                  image\n",
       "0  ad8770db05586b59.jpg\n",
       "1  c7b03e718489f3ca.jpg\n",
       "2  85f8cb619c66b863.jpg"
      ]
     },
     "execution_count": 15,
     "metadata": {},
     "output_type": "execute_result"
    }
   ],
   "source": [
    "import os\n",
    "dir_list = os.listdir('../input/plant-pathology-2021-fgvc8/test_images')\n",
    "test = pd.DataFrame()\n",
    "test.insert(0,'image',dir_list,True)\n",
    "test.head()"
   ]
  },
  {
   "cell_type": "code",
   "execution_count": 16,
   "id": "relative-globe",
   "metadata": {
    "execution": {
     "iopub.execute_input": "2021-05-08T05:40:57.084194Z",
     "iopub.status.busy": "2021-05-08T05:40:57.083369Z",
     "iopub.status.idle": "2021-05-08T05:40:57.092375Z",
     "shell.execute_reply": "2021-05-08T05:40:57.092825Z"
    },
    "papermill": {
     "duration": 0.028775,
     "end_time": "2021-05-08T05:40:57.092950",
     "exception": false,
     "start_time": "2021-05-08T05:40:57.064175",
     "status": "completed"
    },
    "tags": []
   },
   "outputs": [
    {
     "name": "stdout",
     "output_type": "stream",
     "text": [
      "Found 3 validated image filenames.\n",
      "Found 3 validated image filenames.\n"
     ]
    }
   ],
   "source": [
    "from keras.preprocessing.image import ImageDataGenerator\n",
    "label_list = [ 'complex', 'frog_eye_leaf_spot','healthy','powdery_mildew',  'rust', 'scab']\n",
    "\n",
    "test_datagen1 = ImageDataGenerator(preprocessing_function = keras.applications.efficientnet.preprocess_input)\n",
    "\n",
    "test_generator1 = test_datagen1.flow_from_dataframe(dataframe = test,\n",
    "                                                  directory = '../input/plant-pathology-2021-fgvc8/test_images',\n",
    "                                                  x_col = 'image',\n",
    "                                                  y_col = None,\n",
    "                                                  color_mode = 'rgb',\n",
    "                                                  target_size = (768,768),\n",
    "                                                  batch_size = 1,\n",
    "                                                  class_mode = None,\n",
    "                                                  classes = None,\n",
    "                                                  shuffle = False)\n",
    "\n",
    "test_datagen2 = ImageDataGenerator(preprocessing_function = keras.applications.densenet.preprocess_input)\n",
    "\n",
    "test_generator2 = test_datagen2.flow_from_dataframe(dataframe = test,\n",
    "                                                  directory = '../input/plant-pathology-2021-fgvc8/test_images',\n",
    "                                                  x_col = 'image',\n",
    "                                                  y_col = None,\n",
    "                                                  color_mode = 'rgb',\n",
    "                                                  target_size = (512,512),\n",
    "                                                  batch_size = 1,\n",
    "                                                  class_mode = None,\n",
    "                                                  classes = None,\n",
    "                                                  shuffle = False)"
   ]
  },
  {
   "cell_type": "code",
   "execution_count": 17,
   "id": "overhead-final",
   "metadata": {
    "execution": {
     "iopub.execute_input": "2021-05-08T05:40:57.128712Z",
     "iopub.status.busy": "2021-05-08T05:40:57.127651Z",
     "iopub.status.idle": "2021-05-08T05:41:15.345738Z",
     "shell.execute_reply": "2021-05-08T05:41:15.344792Z"
    },
    "papermill": {
     "duration": 18.23887,
     "end_time": "2021-05-08T05:41:15.345899",
     "exception": false,
     "start_time": "2021-05-08T05:40:57.107029",
     "status": "completed"
    },
    "tags": []
   },
   "outputs": [],
   "source": [
    "label_list = [ 'complex', 'frog_eye_leaf_spot','healthy','powdery_mildew',  'rust', 'scab']\n",
    "pre = []\n",
    "indexes = []\n",
    "probs = (2*model1.predict(test_generator1) + model2.predict(test_generator2) + 2*model3.predict(test_generator1)) / 5\n",
    "for index,i in enumerate(probs):\n",
    "    temp=[]\n",
    "    for k,j in enumerate(i): \n",
    "        if j>0.5:\n",
    "            temp.append(k)\n",
    "    indexes.append(temp)\n",
    "# indexes\n",
    "for j in indexes:\n",
    "    st = []\n",
    "    for k in j:\n",
    "        st.append(label_list[k])\n",
    "    pre.append(\" \".join(st))\n",
    "pre\n",
    "test.insert(1,'labels',pre,True)\n",
    "test.to_csv('submission.csv', index=False)"
   ]
  },
  {
   "cell_type": "code",
   "execution_count": 18,
   "id": "classical-stranger",
   "metadata": {
    "execution": {
     "iopub.execute_input": "2021-05-08T05:41:15.382261Z",
     "iopub.status.busy": "2021-05-08T05:41:15.381510Z",
     "iopub.status.idle": "2021-05-08T05:41:15.384632Z",
     "shell.execute_reply": "2021-05-08T05:41:15.385126Z"
    },
    "papermill": {
     "duration": 0.025538,
     "end_time": "2021-05-08T05:41:15.385259",
     "exception": false,
     "start_time": "2021-05-08T05:41:15.359721",
     "status": "completed"
    },
    "tags": []
   },
   "outputs": [
    {
     "data": {
      "text/html": [
       "<div>\n",
       "<style scoped>\n",
       "    .dataframe tbody tr th:only-of-type {\n",
       "        vertical-align: middle;\n",
       "    }\n",
       "\n",
       "    .dataframe tbody tr th {\n",
       "        vertical-align: top;\n",
       "    }\n",
       "\n",
       "    .dataframe thead th {\n",
       "        text-align: right;\n",
       "    }\n",
       "</style>\n",
       "<table border=\"1\" class=\"dataframe\">\n",
       "  <thead>\n",
       "    <tr style=\"text-align: right;\">\n",
       "      <th></th>\n",
       "      <th>image</th>\n",
       "      <th>labels</th>\n",
       "    </tr>\n",
       "  </thead>\n",
       "  <tbody>\n",
       "    <tr>\n",
       "      <th>0</th>\n",
       "      <td>ad8770db05586b59.jpg</td>\n",
       "      <td>frog_eye_leaf_spot scab</td>\n",
       "    </tr>\n",
       "    <tr>\n",
       "      <th>1</th>\n",
       "      <td>c7b03e718489f3ca.jpg</td>\n",
       "      <td>frog_eye_leaf_spot</td>\n",
       "    </tr>\n",
       "    <tr>\n",
       "      <th>2</th>\n",
       "      <td>85f8cb619c66b863.jpg</td>\n",
       "      <td>scab</td>\n",
       "    </tr>\n",
       "  </tbody>\n",
       "</table>\n",
       "</div>"
      ],
      "text/plain": [
       "                  image                   labels\n",
       "0  ad8770db05586b59.jpg  frog_eye_leaf_spot scab\n",
       "1  c7b03e718489f3ca.jpg       frog_eye_leaf_spot\n",
       "2  85f8cb619c66b863.jpg                     scab"
      ]
     },
     "execution_count": 18,
     "metadata": {},
     "output_type": "execute_result"
    }
   ],
   "source": [
    "test"
   ]
  },
  {
   "cell_type": "code",
   "execution_count": null,
   "id": "viral-accessory",
   "metadata": {
    "papermill": {
     "duration": 0.014195,
     "end_time": "2021-05-08T05:41:15.413936",
     "exception": false,
     "start_time": "2021-05-08T05:41:15.399741",
     "status": "completed"
    },
    "tags": []
   },
   "outputs": [],
   "source": []
  }
 ],
 "metadata": {
  "kernelspec": {
   "display_name": "Python 3",
   "language": "python",
   "name": "python3"
  },
  "language_info": {
   "codemirror_mode": {
    "name": "ipython",
    "version": 3
   },
   "file_extension": ".py",
   "mimetype": "text/x-python",
   "name": "python",
   "nbconvert_exporter": "python",
   "pygments_lexer": "ipython3",
   "version": "3.7.10"
  },
  "papermill": {
   "default_parameters": {},
   "duration": 91.71434,
   "end_time": "2021-05-08T05:41:19.643738",
   "environment_variables": {},
   "exception": null,
   "input_path": "__notebook__.ipynb",
   "output_path": "__notebook__.ipynb",
   "parameters": {},
   "start_time": "2021-05-08T05:39:47.929398",
   "version": "2.3.3"
  }
 },
 "nbformat": 4,
 "nbformat_minor": 5
}
